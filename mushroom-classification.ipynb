{
 "cells": [
  {
   "cell_type": "markdown",
   "metadata": {},
   "source": [
    "# Classifier les champignons avec PySpark"
   ]
  },
  {
   "cell_type": "code",
   "execution_count": 2,
   "metadata": {},
   "outputs": [],
   "source": [
    "from pyspark.sql import SparkSession\n",
    "spark = SparkSession.builder.appName(\"MushroomClassifier\").getOrCreate()"
   ]
  },
  {
   "cell_type": "markdown",
   "metadata": {},
   "source": [
    "## 2. Creating the spark session"
   ]
  },
  {
   "cell_type": "code",
   "execution_count": 3,
   "metadata": {},
   "outputs": [
    {
     "name": "stdout",
     "output_type": "stream",
     "text": [
      "<pyspark.sql.session.SparkSession object at 0x00000151A638E6E0>\n"
     ]
    }
   ],
   "source": [
    "# see what it in spark variable\n",
    "print(spark)"
   ]
  },
  {
   "cell_type": "code",
   "execution_count": 4,
   "metadata": {},
   "outputs": [
    {
     "data": {
      "text/html": [
       "\n",
       "        <div>\n",
       "            <p><b>SparkContext</b></p>\n",
       "\n",
       "            <p><a href=\"http://PandaRoux:4041\">Spark UI</a></p>\n",
       "\n",
       "            <dl>\n",
       "              <dt>Version</dt>\n",
       "                <dd><code>v3.4.1</code></dd>\n",
       "              <dt>Master</dt>\n",
       "                <dd><code>local[*]</code></dd>\n",
       "              <dt>AppName</dt>\n",
       "                <dd><code>MushroomClassifier</code></dd>\n",
       "            </dl>\n",
       "        </div>\n",
       "        "
      ],
      "text/plain": [
       "<SparkContext master=local[*] appName=MushroomClassifier>"
      ]
     },
     "execution_count": 4,
     "metadata": {},
     "output_type": "execute_result"
    }
   ],
   "source": [
    "sc = spark.sparkContext\n",
    "sc\n"
   ]
  },
  {
   "cell_type": "markdown",
   "metadata": {},
   "source": [
    "## 3. Loading the data"
   ]
  },
  {
   "cell_type": "code",
   "execution_count": 38,
   "metadata": {},
   "outputs": [],
   "source": [
    "mushroom_df = spark.read.csv(\"mushrooms.csv\")"
   ]
  },
  {
   "cell_type": "code",
   "execution_count": 41,
   "metadata": {},
   "outputs": [
    {
     "ename": "TypeError",
     "evalue": "can only concatenate str (not \"int\") to str",
     "output_type": "error",
     "traceback": [
      "\u001b[1;31m---------------------------------------------------------------------------\u001b[0m",
      "\u001b[1;31mTypeError\u001b[0m                                 Traceback (most recent call last)",
      "\u001b[1;32mc:\\Users\\jpaul\\Documents\\Formation IA Annee II\\PySpark\\mushroom-classification.ipynb Cell 8\u001b[0m line \u001b[0;36m1\n\u001b[1;32m----> <a href='vscode-notebook-cell:/c%3A/Users/jpaul/Documents/Formation%20IA%20Annee%20II/PySpark/mushroom-classification.ipynb#X33sZmlsZQ%3D%3D?line=0'>1</a>\u001b[0m mushroom_df\u001b[39m.\u001b[39;49mdropna(\u001b[39m-\u001b[39;49m\u001b[39m1\u001b[39;49m)\n",
      "File \u001b[1;32mc:\\Users\\jpaul\\anaconda3\\envs\\nlp-cv\\lib\\site-packages\\pyspark\\sql\\dataframe.py:3987\u001b[0m, in \u001b[0;36mDataFrame.dropna\u001b[1;34m(self, how, thresh, subset)\u001b[0m\n\u001b[0;32m   3944\u001b[0m \u001b[39m\u001b[39m\u001b[39m\"\"\"Returns a new :class:`DataFrame` omitting rows with null values.\u001b[39;00m\n\u001b[0;32m   3945\u001b[0m \u001b[39m:func:`DataFrame.dropna` and :func:`DataFrameNaFunctions.drop` are aliases of each other.\u001b[39;00m\n\u001b[0;32m   3946\u001b[0m \n\u001b[1;32m   (...)\u001b[0m\n\u001b[0;32m   3984\u001b[0m \u001b[39m+---+------+-----+\u001b[39;00m\n\u001b[0;32m   3985\u001b[0m \u001b[39m\"\"\"\u001b[39;00m\n\u001b[0;32m   3986\u001b[0m \u001b[39mif\u001b[39;00m how \u001b[39mis\u001b[39;00m \u001b[39mnot\u001b[39;00m \u001b[39mNone\u001b[39;00m \u001b[39mand\u001b[39;00m how \u001b[39mnot\u001b[39;00m \u001b[39min\u001b[39;00m [\u001b[39m\"\u001b[39m\u001b[39many\u001b[39m\u001b[39m\"\u001b[39m, \u001b[39m\"\u001b[39m\u001b[39mall\u001b[39m\u001b[39m\"\u001b[39m]:\n\u001b[1;32m-> 3987\u001b[0m     \u001b[39mraise\u001b[39;00m \u001b[39mValueError\u001b[39;00m(\u001b[39m\"\u001b[39;49m\u001b[39mhow (\u001b[39;49m\u001b[39m'\u001b[39;49m\u001b[39m\"\u001b[39;49m \u001b[39m+\u001b[39;49m how \u001b[39m+\u001b[39m \u001b[39m\"\u001b[39m\u001b[39m'\u001b[39m\u001b[39m) should be \u001b[39m\u001b[39m'\u001b[39m\u001b[39many\u001b[39m\u001b[39m'\u001b[39m\u001b[39m or \u001b[39m\u001b[39m'\u001b[39m\u001b[39mall\u001b[39m\u001b[39m'\u001b[39m\u001b[39m\"\u001b[39m)\n\u001b[0;32m   3989\u001b[0m \u001b[39mif\u001b[39;00m subset \u001b[39mis\u001b[39;00m \u001b[39mNone\u001b[39;00m:\n\u001b[0;32m   3990\u001b[0m     subset \u001b[39m=\u001b[39m \u001b[39mself\u001b[39m\u001b[39m.\u001b[39mcolumns\n",
      "\u001b[1;31mTypeError\u001b[0m: can only concatenate str (not \"int\") to str"
     ]
    }
   ],
   "source": [
    "mushroom_df.dropna(-1)"
   ]
  },
  {
   "cell_type": "code",
   "execution_count": 39,
   "metadata": {},
   "outputs": [
    {
     "data": {
      "text/plain": [
       "[Row(_c0='class', _c1='cap-shape', _c2='cap-surface', _c3='cap-color', _c4='bruises', _c5='odor', _c6='gill-attachment', _c7='gill-spacing', _c8='gill-size', _c9='gill-color', _c10='stalk-shape', _c11='stalk-root', _c12='stalk-surface-above-ring', _c13='stalk-surface-below-ring', _c14='stalk-color-above-ring', _c15='stalk-color-below-ring', _c16='veil-type', _c17='veil-color', _c18='ring-number', _c19='ring-type', _c20='spore-print-color', _c21='population', _c22='habitat'),\n",
       " Row(_c0='p', _c1='x', _c2='s', _c3='n', _c4='t', _c5='p', _c6='f', _c7='c', _c8='n', _c9='k', _c10='e', _c11='e', _c12='s', _c13='s', _c14='w', _c15='w', _c16='p', _c17='w', _c18='o', _c19='p', _c20='k', _c21='s', _c22='u'),\n",
       " Row(_c0='e', _c1='x', _c2='s', _c3='y', _c4='t', _c5='a', _c6='f', _c7='c', _c8='b', _c9='k', _c10='e', _c11='c', _c12='s', _c13='s', _c14='w', _c15='w', _c16='p', _c17='w', _c18='o', _c19='p', _c20='n', _c21='n', _c22='g'),\n",
       " Row(_c0='e', _c1='b', _c2='s', _c3='w', _c4='t', _c5='l', _c6='f', _c7='c', _c8='b', _c9='n', _c10='e', _c11='c', _c12='s', _c13='s', _c14='w', _c15='w', _c16='p', _c17='w', _c18='o', _c19='p', _c20='n', _c21='n', _c22='m'),\n",
       " Row(_c0='p', _c1='x', _c2='y', _c3='w', _c4='t', _c5='p', _c6='f', _c7='c', _c8='n', _c9='n', _c10='e', _c11='e', _c12='s', _c13='s', _c14='w', _c15='w', _c16='p', _c17='w', _c18='o', _c19='p', _c20='k', _c21='s', _c22='u')]"
      ]
     },
     "execution_count": 39,
     "metadata": {},
     "output_type": "execute_result"
    }
   ],
   "source": [
    "# Inspecting the 5 first rows\n",
    "mushroom_df.take(5)"
   ]
  },
  {
   "cell_type": "code",
   "execution_count": 40,
   "metadata": {},
   "outputs": [
    {
     "name": "stdout",
     "output_type": "stream",
     "text": [
      "+-----+---------+-----------+---------+-------+----+---------------+------------+---------+----------+-----------+----------+--------------------+--------------------+--------------------+--------------------+---------+----------+-----------+---------+-----------------+----------+-------+\n",
      "|  _c0|      _c1|        _c2|      _c3|    _c4| _c5|            _c6|         _c7|      _c8|       _c9|       _c10|      _c11|                _c12|                _c13|                _c14|                _c15|     _c16|      _c17|       _c18|     _c19|             _c20|      _c21|   _c22|\n",
      "+-----+---------+-----------+---------+-------+----+---------------+------------+---------+----------+-----------+----------+--------------------+--------------------+--------------------+--------------------+---------+----------+-----------+---------+-----------------+----------+-------+\n",
      "|class|cap-shape|cap-surface|cap-color|bruises|odor|gill-attachment|gill-spacing|gill-size|gill-color|stalk-shape|stalk-root|stalk-surface-abo...|stalk-surface-bel...|stalk-color-above...|stalk-color-below...|veil-type|veil-color|ring-number|ring-type|spore-print-color|population|habitat|\n",
      "|    p|        x|          s|        n|      t|   p|              f|           c|        n|         k|          e|         e|                   s|                   s|                   w|                   w|        p|         w|          o|        p|                k|         s|      u|\n",
      "|    e|        x|          s|        y|      t|   a|              f|           c|        b|         k|          e|         c|                   s|                   s|                   w|                   w|        p|         w|          o|        p|                n|         n|      g|\n",
      "|    e|        b|          s|        w|      t|   l|              f|           c|        b|         n|          e|         c|                   s|                   s|                   w|                   w|        p|         w|          o|        p|                n|         n|      m|\n",
      "|    p|        x|          y|        w|      t|   p|              f|           c|        n|         n|          e|         e|                   s|                   s|                   w|                   w|        p|         w|          o|        p|                k|         s|      u|\n",
      "+-----+---------+-----------+---------+-------+----+---------------+------------+---------+----------+-----------+----------+--------------------+--------------------+--------------------+--------------------+---------+----------+-----------+---------+-----------------+----------+-------+\n",
      "only showing top 5 rows\n",
      "\n"
     ]
    }
   ],
   "source": [
    "# Showing the 5 rows\n",
    "mushroom_df.show(5)"
   ]
  },
  {
   "cell_type": "code",
   "execution_count": 8,
   "metadata": {},
   "outputs": [
    {
     "data": {
      "text/plain": [
       "['_c0',\n",
       " '_c1',\n",
       " '_c2',\n",
       " '_c3',\n",
       " '_c4',\n",
       " '_c5',\n",
       " '_c6',\n",
       " '_c7',\n",
       " '_c8',\n",
       " '_c9',\n",
       " '_c10',\n",
       " '_c11',\n",
       " '_c12',\n",
       " '_c13',\n",
       " '_c14',\n",
       " '_c15',\n",
       " '_c16',\n",
       " '_c17',\n",
       " '_c18',\n",
       " '_c19',\n",
       " '_c20',\n",
       " '_c21',\n",
       " '_c22']"
      ]
     },
     "execution_count": 8,
     "metadata": {},
     "output_type": "execute_result"
    }
   ],
   "source": [
    "# showing the columns\n",
    "mushroom_df.columns"
   ]
  },
  {
   "cell_type": "code",
   "execution_count": 11,
   "metadata": {},
   "outputs": [
    {
     "name": "stdout",
     "output_type": "stream",
     "text": [
      "root\n",
      " |-- _c0: string (nullable = true)\n",
      " |-- _c1: string (nullable = true)\n",
      " |-- _c2: string (nullable = true)\n",
      " |-- _c3: string (nullable = true)\n",
      " |-- _c4: string (nullable = true)\n",
      " |-- _c5: string (nullable = true)\n",
      " |-- _c6: string (nullable = true)\n",
      " |-- _c7: string (nullable = true)\n",
      " |-- _c8: string (nullable = true)\n",
      " |-- _c9: string (nullable = true)\n",
      " |-- _c10: string (nullable = true)\n",
      " |-- _c11: string (nullable = true)\n",
      " |-- _c12: string (nullable = true)\n",
      " |-- _c13: string (nullable = true)\n",
      " |-- _c14: string (nullable = true)\n",
      " |-- _c15: string (nullable = true)\n",
      " |-- _c16: string (nullable = true)\n",
      " |-- _c17: string (nullable = true)\n",
      " |-- _c18: string (nullable = true)\n",
      " |-- _c19: string (nullable = true)\n",
      " |-- _c20: string (nullable = true)\n",
      " |-- _c21: string (nullable = true)\n",
      " |-- _c22: string (nullable = true)\n",
      "\n"
     ]
    }
   ],
   "source": [
    "# Schema of the dataframe\n",
    "mushroom_df.printSchema()"
   ]
  },
  {
   "cell_type": "markdown",
   "metadata": {},
   "source": [
    "## 4. Data Exploration"
   ]
  },
  {
   "cell_type": "code",
   "execution_count": 12,
   "metadata": {},
   "outputs": [
    {
     "name": "stdout",
     "output_type": "stream",
     "text": [
      "+-----------+----------+--------------------+\n",
      "|       _c10|      _c11|                _c12|\n",
      "+-----------+----------+--------------------+\n",
      "|stalk-shape|stalk-root|stalk-surface-abo...|\n",
      "|          e|         e|                   s|\n",
      "|          e|         c|                   s|\n",
      "|          e|         c|                   s|\n",
      "|          e|         e|                   s|\n",
      "|          t|         e|                   s|\n",
      "|          e|         c|                   s|\n",
      "|          e|         c|                   s|\n",
      "|          e|         c|                   s|\n",
      "|          e|         e|                   s|\n",
      "+-----------+----------+--------------------+\n",
      "only showing top 10 rows\n",
      "\n"
     ]
    }
   ],
   "source": [
    "# run a sample selection\n",
    "mushroom_df.select('_c10', '_c11', '_c12').show(10)"
   ]
  },
  {
   "cell_type": "code",
   "execution_count": 16,
   "metadata": {},
   "outputs": [
    {
     "data": {
      "text/html": [
       "<div>\n",
       "<style scoped>\n",
       "    .dataframe tbody tr th:only-of-type {\n",
       "        vertical-align: middle;\n",
       "    }\n",
       "\n",
       "    .dataframe tbody tr th {\n",
       "        vertical-align: top;\n",
       "    }\n",
       "\n",
       "    .dataframe thead th {\n",
       "        text-align: right;\n",
       "    }\n",
       "</style>\n",
       "<table border=\"1\" class=\"dataframe\">\n",
       "  <thead>\n",
       "    <tr style=\"text-align: right;\">\n",
       "      <th></th>\n",
       "      <th>_c0</th>\n",
       "      <th>_c1</th>\n",
       "      <th>_c2</th>\n",
       "      <th>_c3</th>\n",
       "      <th>_c4</th>\n",
       "      <th>_c5</th>\n",
       "      <th>_c6</th>\n",
       "      <th>_c7</th>\n",
       "      <th>_c8</th>\n",
       "      <th>_c9</th>\n",
       "      <th>...</th>\n",
       "      <th>_c13</th>\n",
       "      <th>_c14</th>\n",
       "      <th>_c15</th>\n",
       "      <th>_c16</th>\n",
       "      <th>_c17</th>\n",
       "      <th>_c18</th>\n",
       "      <th>_c19</th>\n",
       "      <th>_c20</th>\n",
       "      <th>_c21</th>\n",
       "      <th>_c22</th>\n",
       "    </tr>\n",
       "  </thead>\n",
       "  <tbody>\n",
       "    <tr>\n",
       "      <th>0</th>\n",
       "      <td>class</td>\n",
       "      <td>cap-shape</td>\n",
       "      <td>cap-surface</td>\n",
       "      <td>cap-color</td>\n",
       "      <td>bruises</td>\n",
       "      <td>odor</td>\n",
       "      <td>gill-attachment</td>\n",
       "      <td>gill-spacing</td>\n",
       "      <td>gill-size</td>\n",
       "      <td>gill-color</td>\n",
       "      <td>...</td>\n",
       "      <td>stalk-surface-below-ring</td>\n",
       "      <td>stalk-color-above-ring</td>\n",
       "      <td>stalk-color-below-ring</td>\n",
       "      <td>veil-type</td>\n",
       "      <td>veil-color</td>\n",
       "      <td>ring-number</td>\n",
       "      <td>ring-type</td>\n",
       "      <td>spore-print-color</td>\n",
       "      <td>population</td>\n",
       "      <td>habitat</td>\n",
       "    </tr>\n",
       "    <tr>\n",
       "      <th>1</th>\n",
       "      <td>p</td>\n",
       "      <td>x</td>\n",
       "      <td>s</td>\n",
       "      <td>n</td>\n",
       "      <td>t</td>\n",
       "      <td>p</td>\n",
       "      <td>f</td>\n",
       "      <td>c</td>\n",
       "      <td>n</td>\n",
       "      <td>k</td>\n",
       "      <td>...</td>\n",
       "      <td>s</td>\n",
       "      <td>w</td>\n",
       "      <td>w</td>\n",
       "      <td>p</td>\n",
       "      <td>w</td>\n",
       "      <td>o</td>\n",
       "      <td>p</td>\n",
       "      <td>k</td>\n",
       "      <td>s</td>\n",
       "      <td>u</td>\n",
       "    </tr>\n",
       "    <tr>\n",
       "      <th>2</th>\n",
       "      <td>e</td>\n",
       "      <td>x</td>\n",
       "      <td>s</td>\n",
       "      <td>y</td>\n",
       "      <td>t</td>\n",
       "      <td>a</td>\n",
       "      <td>f</td>\n",
       "      <td>c</td>\n",
       "      <td>b</td>\n",
       "      <td>k</td>\n",
       "      <td>...</td>\n",
       "      <td>s</td>\n",
       "      <td>w</td>\n",
       "      <td>w</td>\n",
       "      <td>p</td>\n",
       "      <td>w</td>\n",
       "      <td>o</td>\n",
       "      <td>p</td>\n",
       "      <td>n</td>\n",
       "      <td>n</td>\n",
       "      <td>g</td>\n",
       "    </tr>\n",
       "    <tr>\n",
       "      <th>3</th>\n",
       "      <td>e</td>\n",
       "      <td>b</td>\n",
       "      <td>s</td>\n",
       "      <td>w</td>\n",
       "      <td>t</td>\n",
       "      <td>l</td>\n",
       "      <td>f</td>\n",
       "      <td>c</td>\n",
       "      <td>b</td>\n",
       "      <td>n</td>\n",
       "      <td>...</td>\n",
       "      <td>s</td>\n",
       "      <td>w</td>\n",
       "      <td>w</td>\n",
       "      <td>p</td>\n",
       "      <td>w</td>\n",
       "      <td>o</td>\n",
       "      <td>p</td>\n",
       "      <td>n</td>\n",
       "      <td>n</td>\n",
       "      <td>m</td>\n",
       "    </tr>\n",
       "    <tr>\n",
       "      <th>4</th>\n",
       "      <td>p</td>\n",
       "      <td>x</td>\n",
       "      <td>y</td>\n",
       "      <td>w</td>\n",
       "      <td>t</td>\n",
       "      <td>p</td>\n",
       "      <td>f</td>\n",
       "      <td>c</td>\n",
       "      <td>n</td>\n",
       "      <td>n</td>\n",
       "      <td>...</td>\n",
       "      <td>s</td>\n",
       "      <td>w</td>\n",
       "      <td>w</td>\n",
       "      <td>p</td>\n",
       "      <td>w</td>\n",
       "      <td>o</td>\n",
       "      <td>p</td>\n",
       "      <td>k</td>\n",
       "      <td>s</td>\n",
       "      <td>u</td>\n",
       "    </tr>\n",
       "    <tr>\n",
       "      <th>...</th>\n",
       "      <td>...</td>\n",
       "      <td>...</td>\n",
       "      <td>...</td>\n",
       "      <td>...</td>\n",
       "      <td>...</td>\n",
       "      <td>...</td>\n",
       "      <td>...</td>\n",
       "      <td>...</td>\n",
       "      <td>...</td>\n",
       "      <td>...</td>\n",
       "      <td>...</td>\n",
       "      <td>...</td>\n",
       "      <td>...</td>\n",
       "      <td>...</td>\n",
       "      <td>...</td>\n",
       "      <td>...</td>\n",
       "      <td>...</td>\n",
       "      <td>...</td>\n",
       "      <td>...</td>\n",
       "      <td>...</td>\n",
       "      <td>...</td>\n",
       "    </tr>\n",
       "    <tr>\n",
       "      <th>8120</th>\n",
       "      <td>e</td>\n",
       "      <td>k</td>\n",
       "      <td>s</td>\n",
       "      <td>n</td>\n",
       "      <td>f</td>\n",
       "      <td>n</td>\n",
       "      <td>a</td>\n",
       "      <td>c</td>\n",
       "      <td>b</td>\n",
       "      <td>y</td>\n",
       "      <td>...</td>\n",
       "      <td>s</td>\n",
       "      <td>o</td>\n",
       "      <td>o</td>\n",
       "      <td>p</td>\n",
       "      <td>o</td>\n",
       "      <td>o</td>\n",
       "      <td>p</td>\n",
       "      <td>b</td>\n",
       "      <td>c</td>\n",
       "      <td>l</td>\n",
       "    </tr>\n",
       "    <tr>\n",
       "      <th>8121</th>\n",
       "      <td>e</td>\n",
       "      <td>x</td>\n",
       "      <td>s</td>\n",
       "      <td>n</td>\n",
       "      <td>f</td>\n",
       "      <td>n</td>\n",
       "      <td>a</td>\n",
       "      <td>c</td>\n",
       "      <td>b</td>\n",
       "      <td>y</td>\n",
       "      <td>...</td>\n",
       "      <td>s</td>\n",
       "      <td>o</td>\n",
       "      <td>o</td>\n",
       "      <td>p</td>\n",
       "      <td>n</td>\n",
       "      <td>o</td>\n",
       "      <td>p</td>\n",
       "      <td>b</td>\n",
       "      <td>v</td>\n",
       "      <td>l</td>\n",
       "    </tr>\n",
       "    <tr>\n",
       "      <th>8122</th>\n",
       "      <td>e</td>\n",
       "      <td>f</td>\n",
       "      <td>s</td>\n",
       "      <td>n</td>\n",
       "      <td>f</td>\n",
       "      <td>n</td>\n",
       "      <td>a</td>\n",
       "      <td>c</td>\n",
       "      <td>b</td>\n",
       "      <td>n</td>\n",
       "      <td>...</td>\n",
       "      <td>s</td>\n",
       "      <td>o</td>\n",
       "      <td>o</td>\n",
       "      <td>p</td>\n",
       "      <td>o</td>\n",
       "      <td>o</td>\n",
       "      <td>p</td>\n",
       "      <td>b</td>\n",
       "      <td>c</td>\n",
       "      <td>l</td>\n",
       "    </tr>\n",
       "    <tr>\n",
       "      <th>8123</th>\n",
       "      <td>p</td>\n",
       "      <td>k</td>\n",
       "      <td>y</td>\n",
       "      <td>n</td>\n",
       "      <td>f</td>\n",
       "      <td>y</td>\n",
       "      <td>f</td>\n",
       "      <td>c</td>\n",
       "      <td>n</td>\n",
       "      <td>b</td>\n",
       "      <td>...</td>\n",
       "      <td>k</td>\n",
       "      <td>w</td>\n",
       "      <td>w</td>\n",
       "      <td>p</td>\n",
       "      <td>w</td>\n",
       "      <td>o</td>\n",
       "      <td>e</td>\n",
       "      <td>w</td>\n",
       "      <td>v</td>\n",
       "      <td>l</td>\n",
       "    </tr>\n",
       "    <tr>\n",
       "      <th>8124</th>\n",
       "      <td>e</td>\n",
       "      <td>x</td>\n",
       "      <td>s</td>\n",
       "      <td>n</td>\n",
       "      <td>f</td>\n",
       "      <td>n</td>\n",
       "      <td>a</td>\n",
       "      <td>c</td>\n",
       "      <td>b</td>\n",
       "      <td>y</td>\n",
       "      <td>...</td>\n",
       "      <td>s</td>\n",
       "      <td>o</td>\n",
       "      <td>o</td>\n",
       "      <td>p</td>\n",
       "      <td>o</td>\n",
       "      <td>o</td>\n",
       "      <td>p</td>\n",
       "      <td>o</td>\n",
       "      <td>c</td>\n",
       "      <td>l</td>\n",
       "    </tr>\n",
       "  </tbody>\n",
       "</table>\n",
       "<p>8125 rows × 23 columns</p>\n",
       "</div>"
      ],
      "text/plain": [
       "        _c0        _c1          _c2        _c3      _c4   _c5   \n",
       "0     class  cap-shape  cap-surface  cap-color  bruises  odor  \\\n",
       "1         p          x            s          n        t     p   \n",
       "2         e          x            s          y        t     a   \n",
       "3         e          b            s          w        t     l   \n",
       "4         p          x            y          w        t     p   \n",
       "...     ...        ...          ...        ...      ...   ...   \n",
       "8120      e          k            s          n        f     n   \n",
       "8121      e          x            s          n        f     n   \n",
       "8122      e          f            s          n        f     n   \n",
       "8123      p          k            y          n        f     y   \n",
       "8124      e          x            s          n        f     n   \n",
       "\n",
       "                  _c6           _c7        _c8         _c9  ...   \n",
       "0     gill-attachment  gill-spacing  gill-size  gill-color  ...  \\\n",
       "1                   f             c          n           k  ...   \n",
       "2                   f             c          b           k  ...   \n",
       "3                   f             c          b           n  ...   \n",
       "4                   f             c          n           n  ...   \n",
       "...               ...           ...        ...         ...  ...   \n",
       "8120                a             c          b           y  ...   \n",
       "8121                a             c          b           y  ...   \n",
       "8122                a             c          b           n  ...   \n",
       "8123                f             c          n           b  ...   \n",
       "8124                a             c          b           y  ...   \n",
       "\n",
       "                          _c13                    _c14   \n",
       "0     stalk-surface-below-ring  stalk-color-above-ring  \\\n",
       "1                            s                       w   \n",
       "2                            s                       w   \n",
       "3                            s                       w   \n",
       "4                            s                       w   \n",
       "...                        ...                     ...   \n",
       "8120                         s                       o   \n",
       "8121                         s                       o   \n",
       "8122                         s                       o   \n",
       "8123                         k                       w   \n",
       "8124                         s                       o   \n",
       "\n",
       "                        _c15       _c16        _c17         _c18       _c19   \n",
       "0     stalk-color-below-ring  veil-type  veil-color  ring-number  ring-type  \\\n",
       "1                          w          p           w            o          p   \n",
       "2                          w          p           w            o          p   \n",
       "3                          w          p           w            o          p   \n",
       "4                          w          p           w            o          p   \n",
       "...                      ...        ...         ...          ...        ...   \n",
       "8120                       o          p           o            o          p   \n",
       "8121                       o          p           n            o          p   \n",
       "8122                       o          p           o            o          p   \n",
       "8123                       w          p           w            o          e   \n",
       "8124                       o          p           o            o          p   \n",
       "\n",
       "                   _c20        _c21     _c22  \n",
       "0     spore-print-color  population  habitat  \n",
       "1                     k           s        u  \n",
       "2                     n           n        g  \n",
       "3                     n           n        m  \n",
       "4                     k           s        u  \n",
       "...                 ...         ...      ...  \n",
       "8120                  b           c        l  \n",
       "8121                  b           v        l  \n",
       "8122                  b           c        l  \n",
       "8123                  w           v        l  \n",
       "8124                  o           c        l  \n",
       "\n",
       "[8125 rows x 23 columns]"
      ]
     },
     "execution_count": 16,
     "metadata": {},
     "output_type": "execute_result"
    }
   ],
   "source": [
    "# showing as a panda dataframe\n",
    "mushroom_df.toPandas()"
   ]
  },
  {
   "cell_type": "code",
   "execution_count": 19,
   "metadata": {},
   "outputs": [
    {
     "data": {
      "text/plain": [
       "DataFrame[summary: string, _c0: string, _c1: string, _c2: string, _c3: string, _c4: string, _c5: string, _c6: string, _c7: string, _c8: string, _c9: string, _c10: string, _c11: string, _c12: string, _c13: string, _c14: string, _c15: string, _c16: string, _c17: string, _c18: string, _c19: string, _c20: string, _c21: string, _c22: string]"
      ]
     },
     "execution_count": 19,
     "metadata": {},
     "output_type": "execute_result"
    }
   ],
   "source": [
    "mushroom_df.describe()"
   ]
  },
  {
   "cell_type": "code",
   "execution_count": 23,
   "metadata": {},
   "outputs": [
    {
     "data": {
      "text/plain": [
       "[('_c0', 'string'),\n",
       " ('_c1', 'string'),\n",
       " ('_c2', 'string'),\n",
       " ('_c3', 'string'),\n",
       " ('_c4', 'string'),\n",
       " ('_c5', 'string'),\n",
       " ('_c6', 'string'),\n",
       " ('_c7', 'string'),\n",
       " ('_c8', 'string'),\n",
       " ('_c9', 'string'),\n",
       " ('_c10', 'string'),\n",
       " ('_c11', 'string'),\n",
       " ('_c12', 'string'),\n",
       " ('_c13', 'string'),\n",
       " ('_c14', 'string'),\n",
       " ('_c15', 'string'),\n",
       " ('_c16', 'string'),\n",
       " ('_c17', 'string'),\n",
       " ('_c18', 'string'),\n",
       " ('_c19', 'string'),\n",
       " ('_c20', 'string'),\n",
       " ('_c21', 'string'),\n",
       " ('_c22', 'string')]"
      ]
     },
     "execution_count": 23,
     "metadata": {},
     "output_type": "execute_result"
    }
   ],
   "source": [
    "mushroom_df.dtypes"
   ]
  },
  {
   "cell_type": "code",
   "execution_count": 27,
   "metadata": {},
   "outputs": [
    {
     "data": {
      "text/plain": [
       "<bound method dropDuplicates of DataFrame[_c0: string, _c1: string, _c2: string, _c3: string, _c4: string, _c5: string, _c6: string, _c7: string, _c8: string, _c9: string, _c10: string, _c11: string, _c12: string, _c13: string, _c14: string, _c15: string, _c16: string, _c17: string, _c18: string, _c19: string, _c20: string, _c21: string, _c22: string]>"
      ]
     },
     "execution_count": 27,
     "metadata": {},
     "output_type": "execute_result"
    }
   ],
   "source": [
    "# looking for duplicating values or missing value\n",
    "mushroom_df.drop_duplicates"
   ]
  },
  {
   "cell_type": "code",
   "execution_count": 28,
   "metadata": {},
   "outputs": [],
   "source": [
    "import seaborn as sns\n",
    "import math\n",
    "from sklearn.model_selection import train_test_split\n",
    "from sklearn.preprocessing import StandardScaler\n",
    "from sklearn.svm import SVC\n",
    "from sklearn.linear_model import LogisticRegression\n",
    "from sklearn.neighbors import KNeighborsClassifier\n",
    "from sklearn.preprocessing import LabelEncoder\n",
    "from sklearn import tree\n",
    "from sklearn.metrics import accuracy_score"
   ]
  },
  {
   "cell_type": "code",
   "execution_count": 29,
   "metadata": {},
   "outputs": [
    {
     "ename": "RecursionError",
     "evalue": "maximum recursion depth exceeded in comparison",
     "output_type": "error",
     "traceback": [
      "\u001b[1;31m---------------------------------------------------------------------------\u001b[0m",
      "\u001b[1;31mRecursionError\u001b[0m                            Traceback (most recent call last)",
      "\u001b[1;32mc:\\Users\\jpaul\\Documents\\Formation IA Annee II\\PySpark\\mushroom-classification.ipynb Cell 19\u001b[0m line \u001b[0;36m4\n\u001b[0;32m      <a href='vscode-notebook-cell:/c%3A/Users/jpaul/Documents/Formation%20IA%20Annee%20II/PySpark/mushroom-classification.ipynb#X31sZmlsZQ%3D%3D?line=0'>1</a>\u001b[0m le \u001b[39m=\u001b[39m LabelEncoder()\n\u001b[0;32m      <a href='vscode-notebook-cell:/c%3A/Users/jpaul/Documents/Formation%20IA%20Annee%20II/PySpark/mushroom-classification.ipynb#X31sZmlsZQ%3D%3D?line=2'>3</a>\u001b[0m \u001b[39mfor\u001b[39;00m columns \u001b[39min\u001b[39;00m mushroom_df\u001b[39m.\u001b[39mcolumns:\n\u001b[1;32m----> <a href='vscode-notebook-cell:/c%3A/Users/jpaul/Documents/Formation%20IA%20Annee%20II/PySpark/mushroom-classification.ipynb#X31sZmlsZQ%3D%3D?line=3'>4</a>\u001b[0m     mushroom_df[columns] \u001b[39m=\u001b[39m le\u001b[39m.\u001b[39;49mfit_transform(mushroom_df[columns])\n",
      "File \u001b[1;32mc:\\Users\\jpaul\\anaconda3\\envs\\nlp-cv\\lib\\site-packages\\sklearn\\utils\\_set_output.py:140\u001b[0m, in \u001b[0;36m_wrap_method_output.<locals>.wrapped\u001b[1;34m(self, X, *args, **kwargs)\u001b[0m\n\u001b[0;32m    138\u001b[0m \u001b[39m@wraps\u001b[39m(f)\n\u001b[0;32m    139\u001b[0m \u001b[39mdef\u001b[39;00m \u001b[39mwrapped\u001b[39m(\u001b[39mself\u001b[39m, X, \u001b[39m*\u001b[39margs, \u001b[39m*\u001b[39m\u001b[39m*\u001b[39mkwargs):\n\u001b[1;32m--> 140\u001b[0m     data_to_wrap \u001b[39m=\u001b[39m f(\u001b[39mself\u001b[39m, X, \u001b[39m*\u001b[39margs, \u001b[39m*\u001b[39m\u001b[39m*\u001b[39mkwargs)\n\u001b[0;32m    141\u001b[0m     \u001b[39mif\u001b[39;00m \u001b[39misinstance\u001b[39m(data_to_wrap, \u001b[39mtuple\u001b[39m):\n\u001b[0;32m    142\u001b[0m         \u001b[39m# only wrap the first output for cross decomposition\u001b[39;00m\n\u001b[0;32m    143\u001b[0m         \u001b[39mreturn\u001b[39;00m (\n\u001b[0;32m    144\u001b[0m             _wrap_data_with_container(method, data_to_wrap[\u001b[39m0\u001b[39m], X, \u001b[39mself\u001b[39m),\n\u001b[0;32m    145\u001b[0m             \u001b[39m*\u001b[39mdata_to_wrap[\u001b[39m1\u001b[39m:],\n\u001b[0;32m    146\u001b[0m         )\n",
      "File \u001b[1;32mc:\\Users\\jpaul\\anaconda3\\envs\\nlp-cv\\lib\\site-packages\\sklearn\\preprocessing\\_label.py:116\u001b[0m, in \u001b[0;36mLabelEncoder.fit_transform\u001b[1;34m(self, y)\u001b[0m\n\u001b[0;32m    103\u001b[0m \u001b[39mdef\u001b[39;00m \u001b[39mfit_transform\u001b[39m(\u001b[39mself\u001b[39m, y):\n\u001b[0;32m    104\u001b[0m \u001b[39m    \u001b[39m\u001b[39m\"\"\"Fit label encoder and return encoded labels.\u001b[39;00m\n\u001b[0;32m    105\u001b[0m \n\u001b[0;32m    106\u001b[0m \u001b[39m    Parameters\u001b[39;00m\n\u001b[1;32m   (...)\u001b[0m\n\u001b[0;32m    114\u001b[0m \u001b[39m        Encoded labels.\u001b[39;00m\n\u001b[0;32m    115\u001b[0m \u001b[39m    \"\"\"\u001b[39;00m\n\u001b[1;32m--> 116\u001b[0m     y \u001b[39m=\u001b[39m column_or_1d(y, warn\u001b[39m=\u001b[39;49m\u001b[39mTrue\u001b[39;49;00m)\n\u001b[0;32m    117\u001b[0m     \u001b[39mself\u001b[39m\u001b[39m.\u001b[39mclasses_, y \u001b[39m=\u001b[39m _unique(y, return_inverse\u001b[39m=\u001b[39m\u001b[39mTrue\u001b[39;00m)\n\u001b[0;32m    118\u001b[0m     \u001b[39mreturn\u001b[39;00m y\n",
      "File \u001b[1;32mc:\\Users\\jpaul\\anaconda3\\envs\\nlp-cv\\lib\\site-packages\\sklearn\\utils\\validation.py:1179\u001b[0m, in \u001b[0;36mcolumn_or_1d\u001b[1;34m(y, dtype, warn)\u001b[0m\n\u001b[0;32m   1153\u001b[0m \u001b[39m\u001b[39m\u001b[39m\"\"\"Ravel column or 1d numpy array, else raises an error.\u001b[39;00m\n\u001b[0;32m   1154\u001b[0m \n\u001b[0;32m   1155\u001b[0m \u001b[39mParameters\u001b[39;00m\n\u001b[1;32m   (...)\u001b[0m\n\u001b[0;32m   1176\u001b[0m \u001b[39m    If `y` is not a 1D array or a 2D array with a single row or column.\u001b[39;00m\n\u001b[0;32m   1177\u001b[0m \u001b[39m\"\"\"\u001b[39;00m\n\u001b[0;32m   1178\u001b[0m xp, _ \u001b[39m=\u001b[39m get_namespace(y)\n\u001b[1;32m-> 1179\u001b[0m y \u001b[39m=\u001b[39m check_array(\n\u001b[0;32m   1180\u001b[0m     y,\n\u001b[0;32m   1181\u001b[0m     ensure_2d\u001b[39m=\u001b[39;49m\u001b[39mFalse\u001b[39;49;00m,\n\u001b[0;32m   1182\u001b[0m     dtype\u001b[39m=\u001b[39;49mdtype,\n\u001b[0;32m   1183\u001b[0m     input_name\u001b[39m=\u001b[39;49m\u001b[39m\"\u001b[39;49m\u001b[39my\u001b[39;49m\u001b[39m\"\u001b[39;49m,\n\u001b[0;32m   1184\u001b[0m     force_all_finite\u001b[39m=\u001b[39;49m\u001b[39mFalse\u001b[39;49;00m,\n\u001b[0;32m   1185\u001b[0m     ensure_min_samples\u001b[39m=\u001b[39;49m\u001b[39m0\u001b[39;49m,\n\u001b[0;32m   1186\u001b[0m )\n\u001b[0;32m   1188\u001b[0m shape \u001b[39m=\u001b[39m y\u001b[39m.\u001b[39mshape\n\u001b[0;32m   1189\u001b[0m \u001b[39mif\u001b[39;00m \u001b[39mlen\u001b[39m(shape) \u001b[39m==\u001b[39m \u001b[39m1\u001b[39m:\n",
      "File \u001b[1;32mc:\\Users\\jpaul\\anaconda3\\envs\\nlp-cv\\lib\\site-packages\\sklearn\\utils\\validation.py:782\u001b[0m, in \u001b[0;36mcheck_array\u001b[1;34m(array, accept_sparse, accept_large_sparse, dtype, order, copy, force_all_finite, ensure_2d, allow_nd, ensure_min_samples, ensure_min_features, estimator, input_name)\u001b[0m\n\u001b[0;32m    778\u001b[0m         dtype_orig \u001b[39m=\u001b[39m np\u001b[39m.\u001b[39mresult_type(\u001b[39m*\u001b[39mdtypes_orig)\n\u001b[0;32m    780\u001b[0m \u001b[39melif\u001b[39;00m \u001b[39mhasattr\u001b[39m(array, \u001b[39m\"\u001b[39m\u001b[39miloc\u001b[39m\u001b[39m\"\u001b[39m) \u001b[39mand\u001b[39;00m \u001b[39mhasattr\u001b[39m(array, \u001b[39m\"\u001b[39m\u001b[39mdtype\u001b[39m\u001b[39m\"\u001b[39m):\n\u001b[0;32m    781\u001b[0m     \u001b[39m# array is a pandas series\u001b[39;00m\n\u001b[1;32m--> 782\u001b[0m     pandas_requires_conversion \u001b[39m=\u001b[39m _pandas_dtype_needs_early_conversion(array\u001b[39m.\u001b[39;49mdtype)\n\u001b[0;32m    783\u001b[0m     \u001b[39mif\u001b[39;00m \u001b[39misinstance\u001b[39m(array\u001b[39m.\u001b[39mdtype, np\u001b[39m.\u001b[39mdtype):\n\u001b[0;32m    784\u001b[0m         dtype_orig \u001b[39m=\u001b[39m array\u001b[39m.\u001b[39mdtype\n",
      "File \u001b[1;32mc:\\Users\\jpaul\\anaconda3\\envs\\nlp-cv\\lib\\site-packages\\sklearn\\utils\\validation.py:600\u001b[0m, in \u001b[0;36m_pandas_dtype_needs_early_conversion\u001b[1;34m(pd_dtype)\u001b[0m\n\u001b[0;32m    592\u001b[0m \u001b[39m# Check these early for pandas versions without extension dtypes\u001b[39;00m\n\u001b[0;32m    593\u001b[0m \u001b[39mfrom\u001b[39;00m \u001b[39mpandas\u001b[39;00m\u001b[39m.\u001b[39;00m\u001b[39mapi\u001b[39;00m\u001b[39m.\u001b[39;00m\u001b[39mtypes\u001b[39;00m \u001b[39mimport\u001b[39;00m (\n\u001b[0;32m    594\u001b[0m     is_bool_dtype,\n\u001b[0;32m    595\u001b[0m     is_sparse,\n\u001b[0;32m    596\u001b[0m     is_float_dtype,\n\u001b[0;32m    597\u001b[0m     is_integer_dtype,\n\u001b[0;32m    598\u001b[0m )\n\u001b[1;32m--> 600\u001b[0m \u001b[39mif\u001b[39;00m is_bool_dtype(pd_dtype):\n\u001b[0;32m    601\u001b[0m     \u001b[39m# bool and extension booleans need early converstion because __array__\u001b[39;00m\n\u001b[0;32m    602\u001b[0m     \u001b[39m# converts mixed dtype dataframes into object dtypes\u001b[39;00m\n\u001b[0;32m    603\u001b[0m     \u001b[39mreturn\u001b[39;00m \u001b[39mTrue\u001b[39;00m\n\u001b[0;32m    605\u001b[0m \u001b[39mif\u001b[39;00m is_sparse(pd_dtype):\n\u001b[0;32m    606\u001b[0m     \u001b[39m# Sparse arrays will be converted later in `check_array`\u001b[39;00m\n",
      "File \u001b[1;32mc:\\Users\\jpaul\\anaconda3\\envs\\nlp-cv\\lib\\site-packages\\pandas\\core\\dtypes\\common.py:1288\u001b[0m, in \u001b[0;36mis_bool_dtype\u001b[1;34m(arr_or_dtype)\u001b[0m\n\u001b[0;32m   1286\u001b[0m     \u001b[39mreturn\u001b[39;00m \u001b[39mFalse\u001b[39;00m\n\u001b[0;32m   1287\u001b[0m \u001b[39mtry\u001b[39;00m:\n\u001b[1;32m-> 1288\u001b[0m     dtype \u001b[39m=\u001b[39m get_dtype(arr_or_dtype)\n\u001b[0;32m   1289\u001b[0m \u001b[39mexcept\u001b[39;00m (\u001b[39mTypeError\u001b[39;00m, \u001b[39mValueError\u001b[39;00m):\n\u001b[0;32m   1290\u001b[0m     \u001b[39mreturn\u001b[39;00m \u001b[39mFalse\u001b[39;00m\n",
      "File \u001b[1;32mc:\\Users\\jpaul\\anaconda3\\envs\\nlp-cv\\lib\\site-packages\\pandas\\core\\dtypes\\common.py:1491\u001b[0m, in \u001b[0;36mget_dtype\u001b[1;34m(arr_or_dtype)\u001b[0m\n\u001b[0;32m   1488\u001b[0m \u001b[39melif\u001b[39;00m \u001b[39mhasattr\u001b[39m(arr_or_dtype, \u001b[39m\"\u001b[39m\u001b[39mdtype\u001b[39m\u001b[39m\"\u001b[39m):\n\u001b[0;32m   1489\u001b[0m     arr_or_dtype \u001b[39m=\u001b[39m arr_or_dtype\u001b[39m.\u001b[39mdtype\n\u001b[1;32m-> 1491\u001b[0m \u001b[39mreturn\u001b[39;00m pandas_dtype(arr_or_dtype)\n",
      "File \u001b[1;32mc:\\Users\\jpaul\\anaconda3\\envs\\nlp-cv\\lib\\site-packages\\pandas\\core\\dtypes\\common.py:1691\u001b[0m, in \u001b[0;36mpandas_dtype\u001b[1;34m(dtype)\u001b[0m\n\u001b[0;32m   1686\u001b[0m     \u001b[39mwith\u001b[39;00m warnings\u001b[39m.\u001b[39mcatch_warnings():\n\u001b[0;32m   1687\u001b[0m         \u001b[39m# GH#51523 - Series.astype(np.integer) doesn't show\u001b[39;00m\n\u001b[0;32m   1688\u001b[0m         \u001b[39m# numpy deprication warning of np.integer\u001b[39;00m\n\u001b[0;32m   1689\u001b[0m         \u001b[39m# Hence enabling DeprecationWarning\u001b[39;00m\n\u001b[0;32m   1690\u001b[0m         warnings\u001b[39m.\u001b[39msimplefilter(\u001b[39m\"\u001b[39m\u001b[39malways\u001b[39m\u001b[39m\"\u001b[39m, \u001b[39mDeprecationWarning\u001b[39;00m)\n\u001b[1;32m-> 1691\u001b[0m         npdtype \u001b[39m=\u001b[39m np\u001b[39m.\u001b[39;49mdtype(dtype)\n\u001b[0;32m   1692\u001b[0m \u001b[39mexcept\u001b[39;00m \u001b[39mSyntaxError\u001b[39;00m \u001b[39mas\u001b[39;00m err:\n\u001b[0;32m   1693\u001b[0m     \u001b[39m# np.dtype uses `eval` which can raise SyntaxError\u001b[39;00m\n\u001b[0;32m   1694\u001b[0m     \u001b[39mraise\u001b[39;00m \u001b[39mTypeError\u001b[39;00m(\u001b[39mf\u001b[39m\u001b[39m\"\u001b[39m\u001b[39mdata type \u001b[39m\u001b[39m'\u001b[39m\u001b[39m{\u001b[39;00mdtype\u001b[39m}\u001b[39;00m\u001b[39m'\u001b[39m\u001b[39m not understood\u001b[39m\u001b[39m\"\u001b[39m) \u001b[39mfrom\u001b[39;00m \u001b[39merr\u001b[39;00m\n",
      "File \u001b[1;32mc:\\Users\\jpaul\\anaconda3\\envs\\nlp-cv\\lib\\site-packages\\pyspark\\sql\\column.py:669\u001b[0m, in \u001b[0;36mColumn.__getattr__\u001b[1;34m(self, item)\u001b[0m\n\u001b[0;32m    667\u001b[0m \u001b[39mif\u001b[39;00m item\u001b[39m.\u001b[39mstartswith(\u001b[39m\"\u001b[39m\u001b[39m__\u001b[39m\u001b[39m\"\u001b[39m):\n\u001b[0;32m    668\u001b[0m     \u001b[39mraise\u001b[39;00m \u001b[39mAttributeError\u001b[39;00m(item)\n\u001b[1;32m--> 669\u001b[0m \u001b[39mreturn\u001b[39;00m \u001b[39mself\u001b[39;49m[item]\n",
      "File \u001b[1;32mc:\\Users\\jpaul\\anaconda3\\envs\\nlp-cv\\lib\\site-packages\\pyspark\\sql\\column.py:707\u001b[0m, in \u001b[0;36mColumn.__getitem__\u001b[1;34m(self, k)\u001b[0m\n\u001b[0;32m    705\u001b[0m     \u001b[39mreturn\u001b[39;00m \u001b[39mself\u001b[39m\u001b[39m.\u001b[39msubstr(k\u001b[39m.\u001b[39mstart, k\u001b[39m.\u001b[39mstop)\n\u001b[0;32m    706\u001b[0m \u001b[39melse\u001b[39;00m:\n\u001b[1;32m--> 707\u001b[0m     \u001b[39mreturn\u001b[39;00m _bin_op(\u001b[39m\"\u001b[39;49m\u001b[39mapply\u001b[39;49m\u001b[39m\"\u001b[39;49m)(\u001b[39mself\u001b[39;49m, k)\n",
      "File \u001b[1;32mc:\\Users\\jpaul\\anaconda3\\envs\\nlp-cv\\lib\\site-packages\\pyspark\\sql\\column.py:161\u001b[0m, in \u001b[0;36m_bin_op.<locals>._\u001b[1;34m(self, other)\u001b[0m\n\u001b[0;32m    156\u001b[0m \u001b[39mdef\u001b[39;00m \u001b[39m_\u001b[39m(\n\u001b[0;32m    157\u001b[0m     \u001b[39mself\u001b[39m: \u001b[39m\"\u001b[39m\u001b[39mColumn\u001b[39m\u001b[39m\"\u001b[39m,\n\u001b[0;32m    158\u001b[0m     other: Union[\u001b[39m\"\u001b[39m\u001b[39mColumn\u001b[39m\u001b[39m\"\u001b[39m, \u001b[39m\"\u001b[39m\u001b[39mLiteralType\u001b[39m\u001b[39m\"\u001b[39m, \u001b[39m\"\u001b[39m\u001b[39mDecimalLiteral\u001b[39m\u001b[39m\"\u001b[39m, \u001b[39m\"\u001b[39m\u001b[39mDateTimeLiteral\u001b[39m\u001b[39m\"\u001b[39m],\n\u001b[0;32m    159\u001b[0m ) \u001b[39m-\u001b[39m\u001b[39m>\u001b[39m \u001b[39m\"\u001b[39m\u001b[39mColumn\u001b[39m\u001b[39m\"\u001b[39m:\n\u001b[0;32m    160\u001b[0m     jc \u001b[39m=\u001b[39m other\u001b[39m.\u001b[39m_jc \u001b[39mif\u001b[39;00m \u001b[39misinstance\u001b[39m(other, Column) \u001b[39melse\u001b[39;00m other\n\u001b[1;32m--> 161\u001b[0m     njc \u001b[39m=\u001b[39m \u001b[39mgetattr\u001b[39;49m(\u001b[39mself\u001b[39;49m\u001b[39m.\u001b[39;49m_jc, name)(jc)\n\u001b[0;32m    162\u001b[0m     \u001b[39mreturn\u001b[39;00m Column(njc)\n",
      "File \u001b[1;32mc:\\Users\\jpaul\\anaconda3\\envs\\nlp-cv\\lib\\site-packages\\py4j\\java_gateway.py:1314\u001b[0m, in \u001b[0;36mJavaMember.__call__\u001b[1;34m(self, *args)\u001b[0m\n\u001b[0;32m   1313\u001b[0m \u001b[39mdef\u001b[39;00m \u001b[39m__call__\u001b[39m(\u001b[39mself\u001b[39m, \u001b[39m*\u001b[39margs):\n\u001b[1;32m-> 1314\u001b[0m     args_command, temp_args \u001b[39m=\u001b[39m \u001b[39mself\u001b[39;49m\u001b[39m.\u001b[39;49m_build_args(\u001b[39m*\u001b[39;49margs)\n\u001b[0;32m   1316\u001b[0m     command \u001b[39m=\u001b[39m proto\u001b[39m.\u001b[39mCALL_COMMAND_NAME \u001b[39m+\u001b[39m\\\n\u001b[0;32m   1317\u001b[0m         \u001b[39mself\u001b[39m\u001b[39m.\u001b[39mcommand_header \u001b[39m+\u001b[39m\\\n\u001b[0;32m   1318\u001b[0m         args_command \u001b[39m+\u001b[39m\\\n\u001b[0;32m   1319\u001b[0m         proto\u001b[39m.\u001b[39mEND_COMMAND_PART\n\u001b[0;32m   1321\u001b[0m     answer \u001b[39m=\u001b[39m \u001b[39mself\u001b[39m\u001b[39m.\u001b[39mgateway_client\u001b[39m.\u001b[39msend_command(command)\n",
      "File \u001b[1;32mc:\\Users\\jpaul\\anaconda3\\envs\\nlp-cv\\lib\\site-packages\\py4j\\java_gateway.py:1277\u001b[0m, in \u001b[0;36mJavaMember._build_args\u001b[1;34m(self, *args)\u001b[0m\n\u001b[0;32m   1275\u001b[0m \u001b[39mdef\u001b[39;00m \u001b[39m_build_args\u001b[39m(\u001b[39mself\u001b[39m, \u001b[39m*\u001b[39margs):\n\u001b[0;32m   1276\u001b[0m     \u001b[39mif\u001b[39;00m \u001b[39mself\u001b[39m\u001b[39m.\u001b[39mconverters \u001b[39mis\u001b[39;00m \u001b[39mnot\u001b[39;00m \u001b[39mNone\u001b[39;00m \u001b[39mand\u001b[39;00m \u001b[39mlen\u001b[39m(\u001b[39mself\u001b[39m\u001b[39m.\u001b[39mconverters) \u001b[39m>\u001b[39m \u001b[39m0\u001b[39m:\n\u001b[1;32m-> 1277\u001b[0m         (new_args, temp_args) \u001b[39m=\u001b[39m \u001b[39mself\u001b[39;49m\u001b[39m.\u001b[39;49m_get_args(args)\n\u001b[0;32m   1278\u001b[0m     \u001b[39melse\u001b[39;00m:\n\u001b[0;32m   1279\u001b[0m         new_args \u001b[39m=\u001b[39m args\n",
      "File \u001b[1;32mc:\\Users\\jpaul\\anaconda3\\envs\\nlp-cv\\lib\\site-packages\\py4j\\java_gateway.py:1263\u001b[0m, in \u001b[0;36mJavaMember._get_args\u001b[1;34m(self, args)\u001b[0m\n\u001b[0;32m   1261\u001b[0m \u001b[39mif\u001b[39;00m \u001b[39mnot\u001b[39;00m \u001b[39misinstance\u001b[39m(arg, JavaObject):\n\u001b[0;32m   1262\u001b[0m     \u001b[39mfor\u001b[39;00m converter \u001b[39min\u001b[39;00m \u001b[39mself\u001b[39m\u001b[39m.\u001b[39mgateway_client\u001b[39m.\u001b[39mconverters:\n\u001b[1;32m-> 1263\u001b[0m         \u001b[39mif\u001b[39;00m converter\u001b[39m.\u001b[39;49mcan_convert(arg):\n\u001b[0;32m   1264\u001b[0m             temp_arg \u001b[39m=\u001b[39m converter\u001b[39m.\u001b[39mconvert(arg, \u001b[39mself\u001b[39m\u001b[39m.\u001b[39mgateway_client)\n\u001b[0;32m   1265\u001b[0m             temp_args\u001b[39m.\u001b[39mappend(temp_arg)\n",
      "File \u001b[1;32mc:\\Users\\jpaul\\anaconda3\\envs\\nlp-cv\\lib\\site-packages\\py4j\\java_collections.py:490\u001b[0m, in \u001b[0;36mSetConverter.can_convert\u001b[1;34m(self, object)\u001b[0m\n\u001b[0;32m    489\u001b[0m \u001b[39mdef\u001b[39;00m \u001b[39mcan_convert\u001b[39m(\u001b[39mself\u001b[39m, \u001b[39mobject\u001b[39m):\n\u001b[1;32m--> 490\u001b[0m     \u001b[39mreturn\u001b[39;00m \u001b[39misinstance\u001b[39;49m(\u001b[39mobject\u001b[39;49m, Set)\n",
      "File \u001b[1;32mc:\\Users\\jpaul\\anaconda3\\envs\\nlp-cv\\lib\\abc.py:119\u001b[0m, in \u001b[0;36mABCMeta.__instancecheck__\u001b[1;34m(cls, instance)\u001b[0m\n\u001b[0;32m    117\u001b[0m \u001b[39mdef\u001b[39;00m \u001b[39m__instancecheck__\u001b[39m(\u001b[39mcls\u001b[39m, instance):\n\u001b[0;32m    118\u001b[0m \u001b[39m    \u001b[39m\u001b[39m\"\"\"Override for isinstance(instance, cls).\"\"\"\u001b[39;00m\n\u001b[1;32m--> 119\u001b[0m     \u001b[39mreturn\u001b[39;00m _abc_instancecheck(\u001b[39mcls\u001b[39;49m, instance)\n",
      "\u001b[1;31mRecursionError\u001b[0m: maximum recursion depth exceeded in comparison"
     ]
    }
   ],
   "source": [
    "le = LabelEncoder()\n",
    "\n",
    "for columns in mushroom_df.columns:\n",
    "    mushroom_df[columns] = le.fit_transform(mushroom_df[columns])"
   ]
  },
  {
   "cell_type": "code",
   "execution_count": null,
   "metadata": {},
   "outputs": [],
   "source": [
    "X_train,X_test,Y_train,Y_test = train_test_split(mushroom_df.drop('class',axis = 1),mushroom_df['class'],random_state = 42,test_size = 0.2)"
   ]
  },
  {
   "cell_type": "code",
   "execution_count": null,
   "metadata": {},
   "outputs": [],
   "source": [
    "lr = LogisticRegression()\n",
    "neighbors_classifier = KNeighborsClassifier(n_neighbors = int(np.round(math.sqrt(len(X_train)))))\n",
    "SVM = SVC(kernel = 'linear',C = 1)\n",
    "dt = tree.DecisionTreeClassifier()"
   ]
  },
  {
   "cell_type": "code",
   "execution_count": null,
   "metadata": {},
   "outputs": [],
   "source": [
    "algos = [lr,neighbors_classifier,SVM,dt]\n",
    "accu_score = {}"
   ]
  },
  {
   "cell_type": "code",
   "execution_count": null,
   "metadata": {},
   "outputs": [],
   "source": [
    "for algo in algos:\n",
    "    algo.fit(X_train,Y_train)\n",
    "    Y_pred = algo.predict(X_test)\n",
    "    accu_score[algo] = accuracy_score(Y_pred,Y_test)"
   ]
  },
  {
   "cell_type": "code",
   "execution_count": null,
   "metadata": {},
   "outputs": [],
   "source": [
    "print(accu_score)"
   ]
  }
 ],
 "metadata": {
  "kernelspec": {
   "display_name": "nlp-cv",
   "language": "python",
   "name": "python3"
  },
  "language_info": {
   "codemirror_mode": {
    "name": "ipython",
    "version": 3
   },
   "file_extension": ".py",
   "mimetype": "text/x-python",
   "name": "python",
   "nbconvert_exporter": "python",
   "pygments_lexer": "ipython3",
   "version": "3.10.11"
  },
  "orig_nbformat": 4
 },
 "nbformat": 4,
 "nbformat_minor": 2
}
